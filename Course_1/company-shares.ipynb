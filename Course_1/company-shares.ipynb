{
 "cells": [
  {
   "cell_type": "markdown",
   "metadata": {
    "deletable": false,
    "editable": false,
    "id": "iontIxX6g12O",
    "nbgrader": {
     "cell_type": "markdown",
     "checksum": "3936323d616d606c98f328b88ef0c68a",
     "grade": false,
     "grade_id": "cell-6ce131809c7e5137",
     "locked": true,
     "schema_version": 3,
     "solution": false,
     "task": false
    }
   },
   "source": [
    "<center>\n",
    "<img src=\"logo.png\" height=\"900\"> \n",
    "</center>\n",
    "\n",
    "\n",
    "#  Акции\n",
    "\n",
    "В этом задании мы немного поработаем с ценами на акции. "
   ]
  },
  {
   "cell_type": "code",
   "execution_count": 1,
   "metadata": {
    "id": "l9SeuGiVg12T"
   },
   "outputs": [],
   "source": [
    "import numpy as np\n",
    "import pandas as pd\n",
    "\n",
    "import scipy.stats as sts\n",
    "import matplotlib.pyplot as plt\n",
    "import seaborn as sns\n",
    "\n",
    "plt.style.use('ggplot')  # стиль для графиков\n",
    "%matplotlib inline"
   ]
  },
  {
   "cell_type": "markdown",
   "metadata": {
    "id": "bQ-ZvEJVg12U"
   },
   "source": [
    "В табличке `prices.tsv` лежат данные о том как менялась цена на акции из индексов [S&P-500](https://ru.wikipedia.org/wiki/S%26P_500), [NASDAQ-100](https://ru.wikipedia.org/wiki/Nasdaq-100) и [DJI](https://ru.wikipedia.org/wiki/Промышленный_индекс_Доу_—_Джонса) в течение последних $10$ лет. В табличке `information.tsv` лежит дополнительная полезная информация по каждой из ценных бумаг.  Подгрузим эти таблицы и посмотрим на них. "
   ]
  },
  {
   "cell_type": "code",
   "execution_count": 2,
   "metadata": {
    "id": "aw1o5gw-g12U",
    "outputId": "9a4098b2-9f4e-42c0-9825-c6934114ad36",
    "scrolled": true
   },
   "outputs": [
    {
     "data": {
      "text/html": [
       "<div>\n",
       "<style scoped>\n",
       "    .dataframe tbody tr th:only-of-type {\n",
       "        vertical-align: middle;\n",
       "    }\n",
       "\n",
       "    .dataframe tbody tr th {\n",
       "        vertical-align: top;\n",
       "    }\n",
       "\n",
       "    .dataframe thead th {\n",
       "        text-align: right;\n",
       "    }\n",
       "</style>\n",
       "<table border=\"1\" class=\"dataframe\">\n",
       "  <thead>\n",
       "    <tr style=\"text-align: right;\">\n",
       "      <th></th>\n",
       "      <th>A</th>\n",
       "      <th>AAL</th>\n",
       "      <th>AAP</th>\n",
       "      <th>AAPL</th>\n",
       "      <th>ABBV</th>\n",
       "      <th>ABC</th>\n",
       "      <th>ABMD</th>\n",
       "      <th>ABT</th>\n",
       "      <th>ACN</th>\n",
       "      <th>ADBE</th>\n",
       "      <th>...</th>\n",
       "      <th>XOM</th>\n",
       "      <th>XRAY</th>\n",
       "      <th>XRX</th>\n",
       "      <th>XYL</th>\n",
       "      <th>YUM</th>\n",
       "      <th>ZBH</th>\n",
       "      <th>ZBRA</th>\n",
       "      <th>ZION</th>\n",
       "      <th>ZM</th>\n",
       "      <th>ZTS</th>\n",
       "    </tr>\n",
       "    <tr>\n",
       "      <th>Date</th>\n",
       "      <th></th>\n",
       "      <th></th>\n",
       "      <th></th>\n",
       "      <th></th>\n",
       "      <th></th>\n",
       "      <th></th>\n",
       "      <th></th>\n",
       "      <th></th>\n",
       "      <th></th>\n",
       "      <th></th>\n",
       "      <th></th>\n",
       "      <th></th>\n",
       "      <th></th>\n",
       "      <th></th>\n",
       "      <th></th>\n",
       "      <th></th>\n",
       "      <th></th>\n",
       "      <th></th>\n",
       "      <th></th>\n",
       "      <th></th>\n",
       "      <th></th>\n",
       "    </tr>\n",
       "  </thead>\n",
       "  <tbody>\n",
       "    <tr>\n",
       "      <th>2010-08-02</th>\n",
       "      <td>18.982769</td>\n",
       "      <td>10.030768</td>\n",
       "      <td>51.945328</td>\n",
       "      <td>32.324974</td>\n",
       "      <td>NaN</td>\n",
       "      <td>26.103115</td>\n",
       "      <td>11.17</td>\n",
       "      <td>17.431229</td>\n",
       "      <td>32.489162</td>\n",
       "      <td>29.600000</td>\n",
       "      <td>...</td>\n",
       "      <td>43.086357</td>\n",
       "      <td>28.942909</td>\n",
       "      <td>21.664534</td>\n",
       "      <td>NaN</td>\n",
       "      <td>24.980757</td>\n",
       "      <td>49.945686</td>\n",
       "      <td>27.59</td>\n",
       "      <td>20.329309</td>\n",
       "      <td>NaN</td>\n",
       "      <td>NaN</td>\n",
       "    </tr>\n",
       "    <tr>\n",
       "      <th>2010-08-03</th>\n",
       "      <td>18.337280</td>\n",
       "      <td>10.049624</td>\n",
       "      <td>51.148121</td>\n",
       "      <td>32.334858</td>\n",
       "      <td>NaN</td>\n",
       "      <td>25.590956</td>\n",
       "      <td>10.97</td>\n",
       "      <td>17.490696</td>\n",
       "      <td>32.223312</td>\n",
       "      <td>29.120001</td>\n",
       "      <td>...</td>\n",
       "      <td>43.628933</td>\n",
       "      <td>29.177372</td>\n",
       "      <td>21.289482</td>\n",
       "      <td>NaN</td>\n",
       "      <td>24.594522</td>\n",
       "      <td>50.279709</td>\n",
       "      <td>27.40</td>\n",
       "      <td>20.080635</td>\n",
       "      <td>NaN</td>\n",
       "      <td>NaN</td>\n",
       "    </tr>\n",
       "    <tr>\n",
       "      <th>2010-08-04</th>\n",
       "      <td>18.633682</td>\n",
       "      <td>9.455699</td>\n",
       "      <td>51.877274</td>\n",
       "      <td>32.464500</td>\n",
       "      <td>NaN</td>\n",
       "      <td>25.915325</td>\n",
       "      <td>10.50</td>\n",
       "      <td>17.553665</td>\n",
       "      <td>32.497211</td>\n",
       "      <td>29.700001</td>\n",
       "      <td>...</td>\n",
       "      <td>43.628933</td>\n",
       "      <td>29.674450</td>\n",
       "      <td>21.488039</td>\n",
       "      <td>NaN</td>\n",
       "      <td>24.808437</td>\n",
       "      <td>50.873531</td>\n",
       "      <td>28.09</td>\n",
       "      <td>20.089518</td>\n",
       "      <td>NaN</td>\n",
       "      <td>NaN</td>\n",
       "    </tr>\n",
       "    <tr>\n",
       "      <th>2010-08-05</th>\n",
       "      <td>18.745655</td>\n",
       "      <td>9.088029</td>\n",
       "      <td>52.373096</td>\n",
       "      <td>32.306469</td>\n",
       "      <td>NaN</td>\n",
       "      <td>25.898251</td>\n",
       "      <td>10.26</td>\n",
       "      <td>17.483702</td>\n",
       "      <td>32.199158</td>\n",
       "      <td>29.440001</td>\n",
       "      <td>...</td>\n",
       "      <td>43.621983</td>\n",
       "      <td>29.590042</td>\n",
       "      <td>21.267420</td>\n",
       "      <td>NaN</td>\n",
       "      <td>25.200619</td>\n",
       "      <td>50.567337</td>\n",
       "      <td>30.35</td>\n",
       "      <td>19.636568</td>\n",
       "      <td>NaN</td>\n",
       "      <td>NaN</td>\n",
       "    </tr>\n",
       "    <tr>\n",
       "      <th>2010-08-06</th>\n",
       "      <td>18.923494</td>\n",
       "      <td>8.946616</td>\n",
       "      <td>51.284237</td>\n",
       "      <td>32.107712</td>\n",
       "      <td>NaN</td>\n",
       "      <td>25.812889</td>\n",
       "      <td>9.98</td>\n",
       "      <td>17.690086</td>\n",
       "      <td>32.440819</td>\n",
       "      <td>29.230000</td>\n",
       "      <td>...</td>\n",
       "      <td>43.107220</td>\n",
       "      <td>29.599421</td>\n",
       "      <td>21.157112</td>\n",
       "      <td>NaN</td>\n",
       "      <td>25.170906</td>\n",
       "      <td>50.084862</td>\n",
       "      <td>30.24</td>\n",
       "      <td>19.227848</td>\n",
       "      <td>NaN</td>\n",
       "      <td>NaN</td>\n",
       "    </tr>\n",
       "  </tbody>\n",
       "</table>\n",
       "<p>5 rows × 523 columns</p>\n",
       "</div>"
      ],
      "text/plain": [
       "                    A        AAL        AAP       AAPL  ABBV        ABC  \\\n",
       "Date                                                                      \n",
       "2010-08-02  18.982769  10.030768  51.945328  32.324974   NaN  26.103115   \n",
       "2010-08-03  18.337280  10.049624  51.148121  32.334858   NaN  25.590956   \n",
       "2010-08-04  18.633682   9.455699  51.877274  32.464500   NaN  25.915325   \n",
       "2010-08-05  18.745655   9.088029  52.373096  32.306469   NaN  25.898251   \n",
       "2010-08-06  18.923494   8.946616  51.284237  32.107712   NaN  25.812889   \n",
       "\n",
       "             ABMD        ABT        ACN       ADBE  ...        XOM       XRAY  \\\n",
       "Date                                                ...                         \n",
       "2010-08-02  11.17  17.431229  32.489162  29.600000  ...  43.086357  28.942909   \n",
       "2010-08-03  10.97  17.490696  32.223312  29.120001  ...  43.628933  29.177372   \n",
       "2010-08-04  10.50  17.553665  32.497211  29.700001  ...  43.628933  29.674450   \n",
       "2010-08-05  10.26  17.483702  32.199158  29.440001  ...  43.621983  29.590042   \n",
       "2010-08-06   9.98  17.690086  32.440819  29.230000  ...  43.107220  29.599421   \n",
       "\n",
       "                  XRX  XYL        YUM        ZBH   ZBRA       ZION  ZM  ZTS  \n",
       "Date                                                                         \n",
       "2010-08-02  21.664534  NaN  24.980757  49.945686  27.59  20.329309 NaN  NaN  \n",
       "2010-08-03  21.289482  NaN  24.594522  50.279709  27.40  20.080635 NaN  NaN  \n",
       "2010-08-04  21.488039  NaN  24.808437  50.873531  28.09  20.089518 NaN  NaN  \n",
       "2010-08-05  21.267420  NaN  25.200619  50.567337  30.35  19.636568 NaN  NaN  \n",
       "2010-08-06  21.157112  NaN  25.170906  50.084862  30.24  19.227848 NaN  NaN  \n",
       "\n",
       "[5 rows x 523 columns]"
      ]
     },
     "execution_count": 2,
     "metadata": {},
     "output_type": "execute_result"
    }
   ],
   "source": [
    "df_prices = pd.read_csv('price.tsv', sep='\\t')\n",
    "\n",
    "# сделали дату индексом таблицы и применили это преобразование\n",
    "df_prices.set_index('Date', inplace=True)  \n",
    "df_prices.head()"
   ]
  },
  {
   "cell_type": "code",
   "execution_count": 3,
   "metadata": {
    "id": "dY3JrA3ng12V",
    "outputId": "29bdddb7-7634-4378-b6f2-ea92650a8e25",
    "scrolled": true
   },
   "outputs": [
    {
     "data": {
      "text/html": [
       "<div>\n",
       "<style scoped>\n",
       "    .dataframe tbody tr th:only-of-type {\n",
       "        vertical-align: middle;\n",
       "    }\n",
       "\n",
       "    .dataframe tbody tr th {\n",
       "        vertical-align: top;\n",
       "    }\n",
       "\n",
       "    .dataframe thead th {\n",
       "        text-align: right;\n",
       "    }\n",
       "</style>\n",
       "<table border=\"1\" class=\"dataframe\">\n",
       "  <thead>\n",
       "    <tr style=\"text-align: right;\">\n",
       "      <th></th>\n",
       "      <th>Symbol</th>\n",
       "      <th>Security</th>\n",
       "      <th>SEC filings</th>\n",
       "      <th>GICS Sector</th>\n",
       "      <th>GICS Sub Industry</th>\n",
       "      <th>Headquarters Location</th>\n",
       "      <th>Date first added</th>\n",
       "      <th>CIK</th>\n",
       "      <th>Founded</th>\n",
       "      <th>S&amp;P-500</th>\n",
       "      <th>NASDAQ</th>\n",
       "      <th>DJI</th>\n",
       "    </tr>\n",
       "  </thead>\n",
       "  <tbody>\n",
       "    <tr>\n",
       "      <th>0</th>\n",
       "      <td>A</td>\n",
       "      <td>Agilent Technologies Inc</td>\n",
       "      <td>reports</td>\n",
       "      <td>Health Care</td>\n",
       "      <td>Health Care Equipment</td>\n",
       "      <td>Santa Clara, California</td>\n",
       "      <td>05.06.00</td>\n",
       "      <td>1090872.0</td>\n",
       "      <td>1999.0</td>\n",
       "      <td>True</td>\n",
       "      <td>False</td>\n",
       "      <td>False</td>\n",
       "    </tr>\n",
       "    <tr>\n",
       "      <th>1</th>\n",
       "      <td>AAL</td>\n",
       "      <td>American Airlines Group</td>\n",
       "      <td>reports</td>\n",
       "      <td>Industrials</td>\n",
       "      <td>Airlines</td>\n",
       "      <td>Fort Worth, Texas</td>\n",
       "      <td>23.03.15</td>\n",
       "      <td>6201.0</td>\n",
       "      <td>1934.0</td>\n",
       "      <td>True</td>\n",
       "      <td>False</td>\n",
       "      <td>False</td>\n",
       "    </tr>\n",
       "    <tr>\n",
       "      <th>2</th>\n",
       "      <td>AAP</td>\n",
       "      <td>Advance Auto Parts</td>\n",
       "      <td>reports</td>\n",
       "      <td>Consumer Discretionary</td>\n",
       "      <td>Automotive Retail</td>\n",
       "      <td>Raleigh, North Carolina</td>\n",
       "      <td>09.07.15</td>\n",
       "      <td>1158449.0</td>\n",
       "      <td>1932.0</td>\n",
       "      <td>True</td>\n",
       "      <td>False</td>\n",
       "      <td>False</td>\n",
       "    </tr>\n",
       "    <tr>\n",
       "      <th>3</th>\n",
       "      <td>AAPL</td>\n",
       "      <td>Apple Inc.</td>\n",
       "      <td>reports</td>\n",
       "      <td>Information Technology</td>\n",
       "      <td>Technology Hardware, Storage &amp; Peripherals</td>\n",
       "      <td>Cupertino, California</td>\n",
       "      <td>30.11.82</td>\n",
       "      <td>320193.0</td>\n",
       "      <td>1977.0</td>\n",
       "      <td>True</td>\n",
       "      <td>True</td>\n",
       "      <td>True</td>\n",
       "    </tr>\n",
       "    <tr>\n",
       "      <th>4</th>\n",
       "      <td>ABBV</td>\n",
       "      <td>AbbVie Inc.</td>\n",
       "      <td>reports</td>\n",
       "      <td>Health Care</td>\n",
       "      <td>Pharmaceuticals</td>\n",
       "      <td>North Chicago, Illinois</td>\n",
       "      <td>31.12.12</td>\n",
       "      <td>1551152.0</td>\n",
       "      <td>1888.0</td>\n",
       "      <td>True</td>\n",
       "      <td>False</td>\n",
       "      <td>False</td>\n",
       "    </tr>\n",
       "  </tbody>\n",
       "</table>\n",
       "</div>"
      ],
      "text/plain": [
       "  Symbol                  Security SEC filings             GICS Sector  \\\n",
       "0      A  Agilent Technologies Inc     reports             Health Care   \n",
       "1    AAL   American Airlines Group     reports             Industrials   \n",
       "2    AAP        Advance Auto Parts     reports  Consumer Discretionary   \n",
       "3   AAPL                Apple Inc.     reports  Information Technology   \n",
       "4   ABBV               AbbVie Inc.     reports             Health Care   \n",
       "\n",
       "                            GICS Sub Industry    Headquarters Location  \\\n",
       "0                       Health Care Equipment  Santa Clara, California   \n",
       "1                                    Airlines        Fort Worth, Texas   \n",
       "2                           Automotive Retail  Raleigh, North Carolina   \n",
       "3  Technology Hardware, Storage & Peripherals    Cupertino, California   \n",
       "4                             Pharmaceuticals  North Chicago, Illinois   \n",
       "\n",
       "  Date first added        CIK  Founded  S&P-500  NASDAQ    DJI  \n",
       "0         05.06.00  1090872.0   1999.0     True   False  False  \n",
       "1         23.03.15     6201.0   1934.0     True   False  False  \n",
       "2         09.07.15  1158449.0   1932.0     True   False  False  \n",
       "3         30.11.82   320193.0   1977.0     True    True   True  \n",
       "4         31.12.12  1551152.0   1888.0     True   False  False  "
      ]
     },
     "execution_count": 3,
     "metadata": {},
     "output_type": "execute_result"
    }
   ],
   "source": [
    "df_inf = pd.read_csv('information.tsv', sep='\\t')\n",
    "df_inf.head()"
   ]
  },
  {
   "cell_type": "markdown",
   "metadata": {
    "deletable": false,
    "editable": false,
    "id": "dzvQDtlZg12W",
    "nbgrader": {
     "cell_type": "markdown",
     "checksum": "c5f103540e4057ce6d36d0297c0aebd2",
     "grade": false,
     "grade_id": "cell-786705162ed2de43",
     "locked": true,
     "schema_version": 3,
     "solution": false,
     "task": false
    }
   },
   "source": [
    "> Давайте решим пробную задачку, чтобы вы понимали, как устроена система тестирования. \n",
    "\n",
    "В колонках `'S&P-500', 'NASDAQ', 'DJI'` лежит True, если ценная бумага входит в соотвествующий индекс. Сколько ценных бумаг из таблицы входили в индекс NASDAQ? Запишите результат в пременную `n_nasdaq`."
   ]
  },
  {
   "cell_type": "code",
   "execution_count": 4,
   "metadata": {
    "id": "9bK33BRKg12W",
    "outputId": "b4f7272c-9aef-424e-c924-0733b95dec6f"
   },
   "outputs": [
    {
     "data": {
      "text/plain": [
       "103"
      ]
     },
     "execution_count": 4,
     "metadata": {},
     "output_type": "execute_result"
    }
   ],
   "source": [
    "n_nasdaq = df_inf['NASDAQ'].sum() # каждое True это 1, а False 0\n",
    "n_nasdaq"
   ]
  },
  {
   "cell_type": "markdown",
   "metadata": {
    "id": "El8sLE46g12W"
   },
   "source": [
    "Все ваши расчёты будут тестироваться с помощью вот таких тестов. "
   ]
  },
  {
   "cell_type": "code",
   "execution_count": 5,
   "metadata": {
    "deletable": false,
    "editable": false,
    "id": "L1R0Dr3Gg12X",
    "nbgrader": {
     "cell_type": "code",
     "checksum": "c3dedfabaf2a801444618a1a4411fe06",
     "grade": true,
     "grade_id": "cell-23947927940b8ab4",
     "locked": true,
     "points": 1,
     "schema_version": 3,
     "solution": false,
     "task": false
    }
   },
   "outputs": [],
   "source": [
    "assert n_nasdaq == 103"
   ]
  },
  {
   "cell_type": "markdown",
   "metadata": {
    "deletable": false,
    "editable": false,
    "id": "F7_LjQkKg12X",
    "nbgrader": {
     "cell_type": "markdown",
     "checksum": "e36b1bea8589c49144071e8b164db3a5",
     "grade": false,
     "grade_id": "cell-3c2510d485668530",
     "locked": true,
     "schema_version": 3,
     "solution": false,
     "task": false
    }
   },
   "source": [
    "Мы положили в переменную `n_nasdaq` число ценных бумаг, как и требовалось в задании. Тесты прошли и всё успешно отработало. Подобные тесты сделаны по каждому заданию, но скрыты от вас. Вы довольно часто будете видеть ячейки с комментарием: "
   ]
  },
  {
   "cell_type": "code",
   "execution_count": 6,
   "metadata": {
    "deletable": false,
    "editable": false,
    "id": "S5vFmEKZg12X",
    "nbgrader": {
     "cell_type": "code",
     "checksum": "67617a3df06aa008cf158e88becdd86a",
     "grade": false,
     "grade_id": "cell-e1db141dcb5c096a",
     "locked": true,
     "schema_version": 3,
     "solution": false,
     "task": false
    }
   },
   "outputs": [],
   "source": [
    "# проверка, что задание решено корректно"
   ]
  },
  {
   "cell_type": "markdown",
   "metadata": {
    "deletable": false,
    "editable": false,
    "id": "1EIDlTW5g12X",
    "nbgrader": {
     "cell_type": "markdown",
     "checksum": "f302ead6f16c6a625f114c70a24e2780",
     "grade": false,
     "grade_id": "cell-13b3aa3ee7dfdcf4",
     "locked": true,
     "schema_version": 3,
     "solution": false,
     "task": false
    }
   },
   "source": [
    "Он означает, что внутри этой ячейки есть секретные тесты, которые сами запустятся, когда нажмёте на кнопку __Submit assignment.__"
   ]
  },
  {
   "cell_type": "markdown",
   "metadata": {
    "deletable": false,
    "editable": false,
    "id": "SnyBjKGpg12Y",
    "nbgrader": {
     "cell_type": "markdown",
     "checksum": "8494dc2dc3181856612fd05e67baa7a5",
     "grade": false,
     "grade_id": "cell-51982b917b2f9079",
     "locked": true,
     "schema_version": 3,
     "solution": false,
     "task": false
    }
   },
   "source": [
    "__а)__ Теперь настоящее задание. Сколько ценных бумаг входят во все три индекса сразу?"
   ]
  },
  {
   "cell_type": "code",
   "execution_count": 7,
   "metadata": {
    "deletable": false,
    "id": "yplQr9U1g12Y",
    "nbgrader": {
     "cell_type": "code",
     "checksum": "ef3a2dc1afcb4c284a8c16c8ad088c7b",
     "grade": false,
     "grade_id": "cell-a3e4642fedb391d5",
     "locked": false,
     "schema_version": 3,
     "solution": true,
     "task": false
    }
   },
   "outputs": [],
   "source": [
    "n_sp = len(df_inf[df_inf['DJI'] & df_inf['NASDAQ'] & df_inf['S&P-500']]) # запишите результат в переменную n_sp "
   ]
  },
  {
   "cell_type": "code",
   "execution_count": 8,
   "metadata": {
    "deletable": false,
    "editable": false,
    "id": "ci7SmXUug12Y",
    "nbgrader": {
     "cell_type": "code",
     "checksum": "58c3a9dc84ba771d9f393ebc1a285fa5",
     "grade": true,
     "grade_id": "cell-7093eda33cb546f1",
     "locked": true,
     "points": 1,
     "schema_version": 3,
     "solution": false,
     "task": false
    }
   },
   "outputs": [],
   "source": [
    "# проверка, что задание решено корректно\n",
    "assert n_sp < 10\n",
    "\n",
    "# Подобные тесты скрыты от вас"
   ]
  },
  {
   "cell_type": "markdown",
   "metadata": {
    "deletable": false,
    "editable": false,
    "id": "z-TFZmowg12Y",
    "nbgrader": {
     "cell_type": "markdown",
     "checksum": "f2366ca9b074a5a877f825914e0d846f",
     "grade": false,
     "grade_id": "cell-bbe2aab6b2d35f98",
     "locked": true,
     "schema_version": 3,
     "solution": false,
     "task": false
    }
   },
   "source": [
    "__б)__ В колонке `Founded` записан год основания компании. Сколько компаний из индекса S&P-500 были основаны в 19 веке (1900 год относится к 20 веку)? "
   ]
  },
  {
   "cell_type": "code",
   "execution_count": 9,
   "metadata": {
    "deletable": false,
    "id": "hkYjs_Lxg12Y",
    "nbgrader": {
     "cell_type": "code",
     "checksum": "1a1032926dc939f72ab602c4f85c04e7",
     "grade": false,
     "grade_id": "cell-98628456e3c80b90",
     "locked": false,
     "schema_version": 3,
     "solution": true,
     "task": false
    }
   },
   "outputs": [],
   "source": [
    "n_founded = df_inf.query('Founded >= 1800.0 & Founded <= 1899.0')['S&P-500'].sum() # запишите результат в переменную n_founded"
   ]
  },
  {
   "cell_type": "code",
   "execution_count": 10,
   "metadata": {
    "deletable": false,
    "editable": false,
    "id": "h2US4Sfbg12Z",
    "nbgrader": {
     "cell_type": "code",
     "checksum": "eea595edfe02a518aaf0dd221657dedf",
     "grade": true,
     "grade_id": "cell-26f49a06eee98f8c",
     "locked": true,
     "points": 1,
     "schema_version": 3,
     "solution": false,
     "task": false
    }
   },
   "outputs": [],
   "source": [
    "# проверка, что задание решено корректно\n",
    "assert n_founded < 100\n",
    "\n",
    "# Подобные тесты скрыты от вас"
   ]
  },
  {
   "cell_type": "markdown",
   "metadata": {
    "id": "vd1MtAtrg12Z"
   },
   "source": [
    "__в)__  В колонке `GICS Sector` находится сектор экономики, в котором работает компания. Сколько всего уникальных секторов представлено в данных? Все пропуски в этой колонке удалите методом `.dropna()`. "
   ]
  },
  {
   "cell_type": "code",
   "execution_count": 11,
   "metadata": {
    "deletable": false,
    "id": "aCSgYhajg12Z",
    "nbgrader": {
     "cell_type": "code",
     "checksum": "3a038611ce270210f0ddf9bf040ad4f5",
     "grade": false,
     "grade_id": "cell-bc336ea499e3e27b",
     "locked": false,
     "schema_version": 3,
     "solution": true,
     "task": false
    }
   },
   "outputs": [],
   "source": [
    "df_gics = df_inf[['GICS Sector']].dropna()\n",
    "n_sectors = len(df_gics['GICS Sector'].unique()) # запишите результат в переменную n_sectors"
   ]
  },
  {
   "cell_type": "code",
   "execution_count": 12,
   "metadata": {
    "deletable": false,
    "editable": false,
    "id": "s_pe3-xFg12Z",
    "nbgrader": {
     "cell_type": "code",
     "checksum": "308000f4179835e540ffb713e704f586",
     "grade": true,
     "grade_id": "cell-5c44dafd2ec21e30",
     "locked": true,
     "points": 1,
     "schema_version": 3,
     "solution": false,
     "task": false
    }
   },
   "outputs": [],
   "source": [
    "# проверка, что задание решено корректно\n",
    "assert n_sectors > 5\n",
    "assert n_sectors < 15\n",
    "\n",
    "# Подобные тесты скрыты от вас"
   ]
  },
  {
   "cell_type": "markdown",
   "metadata": {
    "id": "9Es1Rfmwg12a"
   },
   "source": [
    "__г)__ Сколько компаний из индекса S&P-500 в сумме приходится на $3$ самых крупных сектора? "
   ]
  },
  {
   "cell_type": "code",
   "execution_count": 13,
   "metadata": {
    "id": "5vY8I2_Vg12a",
    "outputId": "7f761baf-17e8-483d-eb0a-32a5cfd38250"
   },
   "outputs": [
    {
     "data": {
      "text/plain": [
       "Industrials               73\n",
       "Information Technology    71\n",
       "Financials                66\n",
       "Health Care               62\n",
       "Consumer Discretionary    61\n",
       "Consumer Staples          33\n",
       "Real Estate               31\n",
       "Materials                 28\n",
       "Utilities                 28\n",
       "Energy                    26\n",
       "Communication Services    26\n",
       "Name: GICS Sector, dtype: int64"
      ]
     },
     "execution_count": 13,
     "metadata": {},
     "output_type": "execute_result"
    }
   ],
   "source": [
    "df_inf['GICS Sector'].value_counts()"
   ]
  },
  {
   "cell_type": "code",
   "execution_count": 14,
   "metadata": {
    "id": "l2Vuv9s2g12a",
    "outputId": "28c77512-4df6-45c2-f8b5-bf5f7aaf2f0a"
   },
   "outputs": [
    {
     "data": {
      "text/html": [
       "<div>\n",
       "<style scoped>\n",
       "    .dataframe tbody tr th:only-of-type {\n",
       "        vertical-align: middle;\n",
       "    }\n",
       "\n",
       "    .dataframe tbody tr th {\n",
       "        vertical-align: top;\n",
       "    }\n",
       "\n",
       "    .dataframe thead th {\n",
       "        text-align: right;\n",
       "    }\n",
       "</style>\n",
       "<table border=\"1\" class=\"dataframe\">\n",
       "  <thead>\n",
       "    <tr style=\"text-align: right;\">\n",
       "      <th></th>\n",
       "      <th>Symbol</th>\n",
       "      <th>Security</th>\n",
       "      <th>SEC filings</th>\n",
       "      <th>GICS_Sector</th>\n",
       "      <th>GICS Sub Industry</th>\n",
       "      <th>Headquarters Location</th>\n",
       "      <th>Date first added</th>\n",
       "      <th>CIK</th>\n",
       "      <th>Founded</th>\n",
       "      <th>S&amp;P-500</th>\n",
       "      <th>NASDAQ</th>\n",
       "      <th>DJI</th>\n",
       "    </tr>\n",
       "  </thead>\n",
       "  <tbody>\n",
       "    <tr>\n",
       "      <th>0</th>\n",
       "      <td>A</td>\n",
       "      <td>Agilent Technologies Inc</td>\n",
       "      <td>reports</td>\n",
       "      <td>Health Care</td>\n",
       "      <td>Health Care Equipment</td>\n",
       "      <td>Santa Clara, California</td>\n",
       "      <td>05.06.00</td>\n",
       "      <td>1090872.0</td>\n",
       "      <td>1999.0</td>\n",
       "      <td>True</td>\n",
       "      <td>False</td>\n",
       "      <td>False</td>\n",
       "    </tr>\n",
       "    <tr>\n",
       "      <th>1</th>\n",
       "      <td>AAL</td>\n",
       "      <td>American Airlines Group</td>\n",
       "      <td>reports</td>\n",
       "      <td>Industrials</td>\n",
       "      <td>Airlines</td>\n",
       "      <td>Fort Worth, Texas</td>\n",
       "      <td>23.03.15</td>\n",
       "      <td>6201.0</td>\n",
       "      <td>1934.0</td>\n",
       "      <td>True</td>\n",
       "      <td>False</td>\n",
       "      <td>False</td>\n",
       "    </tr>\n",
       "    <tr>\n",
       "      <th>2</th>\n",
       "      <td>AAP</td>\n",
       "      <td>Advance Auto Parts</td>\n",
       "      <td>reports</td>\n",
       "      <td>Consumer Discretionary</td>\n",
       "      <td>Automotive Retail</td>\n",
       "      <td>Raleigh, North Carolina</td>\n",
       "      <td>09.07.15</td>\n",
       "      <td>1158449.0</td>\n",
       "      <td>1932.0</td>\n",
       "      <td>True</td>\n",
       "      <td>False</td>\n",
       "      <td>False</td>\n",
       "    </tr>\n",
       "  </tbody>\n",
       "</table>\n",
       "</div>"
      ],
      "text/plain": [
       "  Symbol                  Security SEC filings             GICS_Sector  \\\n",
       "0      A  Agilent Technologies Inc     reports             Health Care   \n",
       "1    AAL   American Airlines Group     reports             Industrials   \n",
       "2    AAP        Advance Auto Parts     reports  Consumer Discretionary   \n",
       "\n",
       "       GICS Sub Industry    Headquarters Location Date first added        CIK  \\\n",
       "0  Health Care Equipment  Santa Clara, California         05.06.00  1090872.0   \n",
       "1               Airlines        Fort Worth, Texas         23.03.15     6201.0   \n",
       "2      Automotive Retail  Raleigh, North Carolina         09.07.15  1158449.0   \n",
       "\n",
       "   Founded  S&P-500  NASDAQ    DJI  \n",
       "0   1999.0     True   False  False  \n",
       "1   1934.0     True   False  False  \n",
       "2   1932.0     True   False  False  "
      ]
     },
     "execution_count": 14,
     "metadata": {},
     "output_type": "execute_result"
    }
   ],
   "source": [
    "df_inf =  df_inf.rename(columns={'GICS Sector': 'GICS_Sector'})\n",
    "df_inf.head(3)"
   ]
  },
  {
   "cell_type": "code",
   "execution_count": 15,
   "metadata": {
    "id": "0kIhKQvLg12a",
    "outputId": "4f74649d-f1d7-406f-87e7-474c976ec73a"
   },
   "outputs": [
    {
     "data": {
      "text/html": [
       "<div>\n",
       "<style scoped>\n",
       "    .dataframe tbody tr th:only-of-type {\n",
       "        vertical-align: middle;\n",
       "    }\n",
       "\n",
       "    .dataframe tbody tr th {\n",
       "        vertical-align: top;\n",
       "    }\n",
       "\n",
       "    .dataframe thead th {\n",
       "        text-align: right;\n",
       "    }\n",
       "</style>\n",
       "<table border=\"1\" class=\"dataframe\">\n",
       "  <thead>\n",
       "    <tr style=\"text-align: right;\">\n",
       "      <th></th>\n",
       "      <th>Symbol</th>\n",
       "      <th>Security</th>\n",
       "      <th>SEC filings</th>\n",
       "      <th>GICS_Sector</th>\n",
       "      <th>GICS Sub Industry</th>\n",
       "      <th>Headquarters Location</th>\n",
       "      <th>Date first added</th>\n",
       "      <th>CIK</th>\n",
       "      <th>Founded</th>\n",
       "      <th>S&amp;P-500</th>\n",
       "      <th>NASDAQ</th>\n",
       "      <th>DJI</th>\n",
       "    </tr>\n",
       "  </thead>\n",
       "  <tbody>\n",
       "    <tr>\n",
       "      <th>1</th>\n",
       "      <td>AAL</td>\n",
       "      <td>American Airlines Group</td>\n",
       "      <td>reports</td>\n",
       "      <td>Industrials</td>\n",
       "      <td>Airlines</td>\n",
       "      <td>Fort Worth, Texas</td>\n",
       "      <td>23.03.15</td>\n",
       "      <td>6201.0</td>\n",
       "      <td>1934.0</td>\n",
       "      <td>True</td>\n",
       "      <td>False</td>\n",
       "      <td>False</td>\n",
       "    </tr>\n",
       "    <tr>\n",
       "      <th>3</th>\n",
       "      <td>AAPL</td>\n",
       "      <td>Apple Inc.</td>\n",
       "      <td>reports</td>\n",
       "      <td>Information Technology</td>\n",
       "      <td>Technology Hardware, Storage &amp; Peripherals</td>\n",
       "      <td>Cupertino, California</td>\n",
       "      <td>30.11.82</td>\n",
       "      <td>320193.0</td>\n",
       "      <td>1977.0</td>\n",
       "      <td>True</td>\n",
       "      <td>True</td>\n",
       "      <td>True</td>\n",
       "    </tr>\n",
       "    <tr>\n",
       "      <th>8</th>\n",
       "      <td>ACN</td>\n",
       "      <td>Accenture plc</td>\n",
       "      <td>reports</td>\n",
       "      <td>Information Technology</td>\n",
       "      <td>IT Consulting &amp; Other Services</td>\n",
       "      <td>Dublin, Ireland</td>\n",
       "      <td>06.07.11</td>\n",
       "      <td>1467373.0</td>\n",
       "      <td>1989.0</td>\n",
       "      <td>True</td>\n",
       "      <td>False</td>\n",
       "      <td>False</td>\n",
       "    </tr>\n",
       "  </tbody>\n",
       "</table>\n",
       "</div>"
      ],
      "text/plain": [
       "  Symbol                 Security SEC filings             GICS_Sector  \\\n",
       "1    AAL  American Airlines Group     reports             Industrials   \n",
       "3   AAPL               Apple Inc.     reports  Information Technology   \n",
       "8    ACN            Accenture plc     reports  Information Technology   \n",
       "\n",
       "                            GICS Sub Industry  Headquarters Location  \\\n",
       "1                                    Airlines      Fort Worth, Texas   \n",
       "3  Technology Hardware, Storage & Peripherals  Cupertino, California   \n",
       "8              IT Consulting & Other Services        Dublin, Ireland   \n",
       "\n",
       "  Date first added        CIK  Founded  S&P-500  NASDAQ    DJI  \n",
       "1         23.03.15     6201.0   1934.0     True   False  False  \n",
       "3         30.11.82   320193.0   1977.0     True    True   True  \n",
       "8         06.07.11  1467373.0   1989.0     True   False  False  "
      ]
     },
     "execution_count": 15,
     "metadata": {},
     "output_type": "execute_result"
    }
   ],
   "source": [
    "df_top3 = df_inf.query('GICS_Sector == \"Financials\" or GICS_Sector == \"Information Technology\" or GICS_Sector == \"Industrials\"')\n",
    "df_top3.head(3)"
   ]
  },
  {
   "cell_type": "code",
   "execution_count": 16,
   "metadata": {
    "deletable": false,
    "id": "Y5Iz6Z-Sg12b",
    "nbgrader": {
     "cell_type": "code",
     "checksum": "00ad0fd0d95fcce49501240747ebe9ed",
     "grade": false,
     "grade_id": "cell-c82bb23f4ec849c5",
     "locked": false,
     "schema_version": 3,
     "solution": true,
     "task": false
    }
   },
   "outputs": [],
   "source": [
    "n_top3  = df_top3['S&P-500'].sum() # запишите результат в переменную n_top3"
   ]
  },
  {
   "cell_type": "code",
   "execution_count": 17,
   "metadata": {
    "deletable": false,
    "editable": false,
    "id": "SzLzUDn0g12b",
    "nbgrader": {
     "cell_type": "code",
     "checksum": "6da71b1de381c0913ce0e57326d9808e",
     "grade": true,
     "grade_id": "cell-d401896c025ac426",
     "locked": true,
     "points": 1,
     "schema_version": 3,
     "solution": false,
     "task": false
    }
   },
   "outputs": [],
   "source": [
    "# проверка, что задание решено корректно\n",
    "assert n_top3 < 300\n",
    "assert n_top3 > 200\n",
    "\n",
    "# Подобные тесты скрыты от вас"
   ]
  },
  {
   "cell_type": "markdown",
   "metadata": {
    "id": "lgzzDoJIg12b"
   },
   "source": [
    "__д)__ У скольки компаний тикер (краткое название из колонки `Symbol`) состоит из трёх букв? "
   ]
  },
  {
   "cell_type": "code",
   "execution_count": 18,
   "metadata": {
    "id": "H7BW_LeEg12b",
    "outputId": "b3038fd6-f422-4771-dfc5-b953f8a2bcf0"
   },
   "outputs": [
    {
     "data": {
      "text/html": [
       "<div>\n",
       "<style scoped>\n",
       "    .dataframe tbody tr th:only-of-type {\n",
       "        vertical-align: middle;\n",
       "    }\n",
       "\n",
       "    .dataframe tbody tr th {\n",
       "        vertical-align: top;\n",
       "    }\n",
       "\n",
       "    .dataframe thead th {\n",
       "        text-align: right;\n",
       "    }\n",
       "</style>\n",
       "<table border=\"1\" class=\"dataframe\">\n",
       "  <thead>\n",
       "    <tr style=\"text-align: right;\">\n",
       "      <th></th>\n",
       "      <th>Symbol</th>\n",
       "      <th>Security</th>\n",
       "      <th>SEC filings</th>\n",
       "      <th>GICS_Sector</th>\n",
       "      <th>GICS Sub Industry</th>\n",
       "      <th>Headquarters Location</th>\n",
       "      <th>Date first added</th>\n",
       "      <th>CIK</th>\n",
       "      <th>Founded</th>\n",
       "      <th>S&amp;P-500</th>\n",
       "      <th>NASDAQ</th>\n",
       "      <th>DJI</th>\n",
       "    </tr>\n",
       "  </thead>\n",
       "  <tbody>\n",
       "    <tr>\n",
       "      <th>1</th>\n",
       "      <td>AAL</td>\n",
       "      <td>American Airlines Group</td>\n",
       "      <td>reports</td>\n",
       "      <td>Industrials</td>\n",
       "      <td>Airlines</td>\n",
       "      <td>Fort Worth, Texas</td>\n",
       "      <td>23.03.15</td>\n",
       "      <td>6201.0</td>\n",
       "      <td>1934.0</td>\n",
       "      <td>True</td>\n",
       "      <td>False</td>\n",
       "      <td>False</td>\n",
       "    </tr>\n",
       "    <tr>\n",
       "      <th>2</th>\n",
       "      <td>AAP</td>\n",
       "      <td>Advance Auto Parts</td>\n",
       "      <td>reports</td>\n",
       "      <td>Consumer Discretionary</td>\n",
       "      <td>Automotive Retail</td>\n",
       "      <td>Raleigh, North Carolina</td>\n",
       "      <td>09.07.15</td>\n",
       "      <td>1158449.0</td>\n",
       "      <td>1932.0</td>\n",
       "      <td>True</td>\n",
       "      <td>False</td>\n",
       "      <td>False</td>\n",
       "    </tr>\n",
       "    <tr>\n",
       "      <th>5</th>\n",
       "      <td>ABC</td>\n",
       "      <td>AmerisourceBergen Corp</td>\n",
       "      <td>reports</td>\n",
       "      <td>Health Care</td>\n",
       "      <td>Health Care Distributors</td>\n",
       "      <td>Chesterbrook, Pennsylvania</td>\n",
       "      <td>30.08.01</td>\n",
       "      <td>1140859.0</td>\n",
       "      <td>1985.0</td>\n",
       "      <td>True</td>\n",
       "      <td>False</td>\n",
       "      <td>False</td>\n",
       "    </tr>\n",
       "  </tbody>\n",
       "</table>\n",
       "</div>"
      ],
      "text/plain": [
       "  Symbol                 Security SEC filings             GICS_Sector  \\\n",
       "1    AAL  American Airlines Group     reports             Industrials   \n",
       "2    AAP       Advance Auto Parts     reports  Consumer Discretionary   \n",
       "5    ABC   AmerisourceBergen Corp     reports             Health Care   \n",
       "\n",
       "          GICS Sub Industry       Headquarters Location Date first added  \\\n",
       "1                  Airlines           Fort Worth, Texas         23.03.15   \n",
       "2         Automotive Retail     Raleigh, North Carolina         09.07.15   \n",
       "5  Health Care Distributors  Chesterbrook, Pennsylvania         30.08.01   \n",
       "\n",
       "         CIK  Founded  S&P-500  NASDAQ    DJI  \n",
       "1     6201.0   1934.0     True   False  False  \n",
       "2  1158449.0   1932.0     True   False  False  \n",
       "5  1140859.0   1985.0     True   False  False  "
      ]
     },
     "execution_count": 18,
     "metadata": {},
     "output_type": "execute_result"
    }
   ],
   "source": [
    "df_len = df_inf[df_inf['Symbol'].str.len() == 3]\n",
    "df_len.head(3)"
   ]
  },
  {
   "cell_type": "code",
   "execution_count": 19,
   "metadata": {
    "deletable": false,
    "id": "L24bCKHvg12b",
    "nbgrader": {
     "cell_type": "code",
     "checksum": "22a4c74ee37ccd37a33ebca5b37fdc39",
     "grade": false,
     "grade_id": "cell-b9d28d9216c4d7da",
     "locked": false,
     "schema_version": 3,
     "solution": true,
     "task": false
    }
   },
   "outputs": [],
   "source": [
    "n_ticker  = len(df_len['Security'].unique()) # запишите результат в переменную n_ticker"
   ]
  },
  {
   "cell_type": "code",
   "execution_count": 20,
   "metadata": {
    "deletable": false,
    "editable": false,
    "id": "Y2W44lVMg12c",
    "nbgrader": {
     "cell_type": "code",
     "checksum": "85f75f4294a375902d0f59b1977bfe2e",
     "grade": true,
     "grade_id": "cell-42f38a5c7bf141d9",
     "locked": true,
     "points": 1,
     "schema_version": 3,
     "solution": false,
     "task": false
    }
   },
   "outputs": [],
   "source": [
    "# проверка, что задание решено корректно\n",
    "assert n_ticker > 300\n",
    "\n",
    "# Подобные тесты скрыты от вас"
   ]
  },
  {
   "cell_type": "markdown",
   "metadata": {
    "id": "ds8BTiBMg12c"
   },
   "source": [
    "А из другого количества букв? Заведите колонку `letter_count` с числом букв в тикере, а после подсчитайте как часто в ней встречаются разные значения. "
   ]
  },
  {
   "cell_type": "code",
   "execution_count": 21,
   "metadata": {
    "deletable": false,
    "id": "W-A_aZQ8g12c",
    "nbgrader": {
     "cell_type": "code",
     "checksum": "3caecd00e4d384bbd7bbb2dd2a32e9f8",
     "grade": false,
     "grade_id": "cell-c40e7dc5edeca7b7",
     "locked": false,
     "schema_version": 3,
     "solution": true,
     "task": false
    },
    "outputId": "f2878c9a-da37-4c6e-8d41-2a52751bc7e7"
   },
   "outputs": [
    {
     "data": {
      "text/plain": [
       "3    308\n",
       "4    148\n",
       "2     52\n",
       "1     10\n",
       "5      7\n",
       "Name: Symbol, dtype: int64"
      ]
     },
     "execution_count": 21,
     "metadata": {},
     "output_type": "execute_result"
    }
   ],
   "source": [
    "letter_count = df_inf['Symbol'].str.len()\n",
    "letter_count.value_counts()"
   ]
  },
  {
   "cell_type": "markdown",
   "metadata": {
    "id": "BFxDENASg12c"
   },
   "source": [
    "Создайте в таблице новую колонку `first_letter`. Запишите туда первую букву каждого тикера из колонки `Symbol`. Какая буква встречается на первом месте чаще всего? "
   ]
  },
  {
   "cell_type": "code",
   "execution_count": 22,
   "metadata": {
    "id": "PPOX6T6rg12c"
   },
   "outputs": [],
   "source": [
    "def first(name):\n",
    "    return name[0]"
   ]
  },
  {
   "cell_type": "code",
   "execution_count": 23,
   "metadata": {
    "id": "jAAFkUvBg12c",
    "outputId": "1b9938e4-8aa1-489f-f55e-806329b8eec8"
   },
   "outputs": [
    {
     "data": {
      "text/html": [
       "<div>\n",
       "<style scoped>\n",
       "    .dataframe tbody tr th:only-of-type {\n",
       "        vertical-align: middle;\n",
       "    }\n",
       "\n",
       "    .dataframe tbody tr th {\n",
       "        vertical-align: top;\n",
       "    }\n",
       "\n",
       "    .dataframe thead th {\n",
       "        text-align: right;\n",
       "    }\n",
       "</style>\n",
       "<table border=\"1\" class=\"dataframe\">\n",
       "  <thead>\n",
       "    <tr style=\"text-align: right;\">\n",
       "      <th></th>\n",
       "      <th>Symbol</th>\n",
       "      <th>Security</th>\n",
       "      <th>SEC filings</th>\n",
       "      <th>GICS_Sector</th>\n",
       "      <th>GICS Sub Industry</th>\n",
       "      <th>Headquarters Location</th>\n",
       "      <th>Date first added</th>\n",
       "      <th>CIK</th>\n",
       "      <th>Founded</th>\n",
       "      <th>S&amp;P-500</th>\n",
       "      <th>NASDAQ</th>\n",
       "      <th>DJI</th>\n",
       "      <th>first_letter</th>\n",
       "    </tr>\n",
       "  </thead>\n",
       "  <tbody>\n",
       "    <tr>\n",
       "      <th>0</th>\n",
       "      <td>A</td>\n",
       "      <td>Agilent Technologies Inc</td>\n",
       "      <td>reports</td>\n",
       "      <td>Health Care</td>\n",
       "      <td>Health Care Equipment</td>\n",
       "      <td>Santa Clara, California</td>\n",
       "      <td>05.06.00</td>\n",
       "      <td>1090872.0</td>\n",
       "      <td>1999.0</td>\n",
       "      <td>True</td>\n",
       "      <td>False</td>\n",
       "      <td>False</td>\n",
       "      <td>A</td>\n",
       "    </tr>\n",
       "    <tr>\n",
       "      <th>1</th>\n",
       "      <td>AAL</td>\n",
       "      <td>American Airlines Group</td>\n",
       "      <td>reports</td>\n",
       "      <td>Industrials</td>\n",
       "      <td>Airlines</td>\n",
       "      <td>Fort Worth, Texas</td>\n",
       "      <td>23.03.15</td>\n",
       "      <td>6201.0</td>\n",
       "      <td>1934.0</td>\n",
       "      <td>True</td>\n",
       "      <td>False</td>\n",
       "      <td>False</td>\n",
       "      <td>A</td>\n",
       "    </tr>\n",
       "    <tr>\n",
       "      <th>2</th>\n",
       "      <td>AAP</td>\n",
       "      <td>Advance Auto Parts</td>\n",
       "      <td>reports</td>\n",
       "      <td>Consumer Discretionary</td>\n",
       "      <td>Automotive Retail</td>\n",
       "      <td>Raleigh, North Carolina</td>\n",
       "      <td>09.07.15</td>\n",
       "      <td>1158449.0</td>\n",
       "      <td>1932.0</td>\n",
       "      <td>True</td>\n",
       "      <td>False</td>\n",
       "      <td>False</td>\n",
       "      <td>A</td>\n",
       "    </tr>\n",
       "  </tbody>\n",
       "</table>\n",
       "</div>"
      ],
      "text/plain": [
       "  Symbol                  Security SEC filings             GICS_Sector  \\\n",
       "0      A  Agilent Technologies Inc     reports             Health Care   \n",
       "1    AAL   American Airlines Group     reports             Industrials   \n",
       "2    AAP        Advance Auto Parts     reports  Consumer Discretionary   \n",
       "\n",
       "       GICS Sub Industry    Headquarters Location Date first added        CIK  \\\n",
       "0  Health Care Equipment  Santa Clara, California         05.06.00  1090872.0   \n",
       "1               Airlines        Fort Worth, Texas         23.03.15     6201.0   \n",
       "2      Automotive Retail  Raleigh, North Carolina         09.07.15  1158449.0   \n",
       "\n",
       "   Founded  S&P-500  NASDAQ    DJI first_letter  \n",
       "0   1999.0     True   False  False            A  \n",
       "1   1934.0     True   False  False            A  \n",
       "2   1932.0     True   False  False            A  "
      ]
     },
     "execution_count": 23,
     "metadata": {},
     "output_type": "execute_result"
    }
   ],
   "source": [
    "df_inf['first_letter'] = df_inf.Symbol.apply(first)\n",
    "df_inf.head(3)"
   ]
  },
  {
   "cell_type": "code",
   "execution_count": 24,
   "metadata": {
    "deletable": false,
    "id": "7sKxzvvNg12d",
    "nbgrader": {
     "cell_type": "code",
     "checksum": "9f368578569efa33ff7a80ba9e8194a4",
     "grade": false,
     "grade_id": "cell-1f455552fba542d7",
     "locked": false,
     "schema_version": 3,
     "solution": true,
     "task": false
    }
   },
   "outputs": [],
   "source": [
    "popular_letter = df_inf['first_letter'].value_counts().index.tolist()[0] # запишите результат в переменную popular_letter"
   ]
  },
  {
   "cell_type": "code",
   "execution_count": 25,
   "metadata": {
    "deletable": false,
    "editable": false,
    "id": "tcckXOp3g12d",
    "nbgrader": {
     "cell_type": "code",
     "checksum": "6ba80649eca8376fcabad3e05a7cc2cd",
     "grade": true,
     "grade_id": "cell-68a43319cbf3d95a",
     "locked": true,
     "points": 1,
     "schema_version": 3,
     "solution": false,
     "task": false
    }
   },
   "outputs": [],
   "source": [
    "# проверка, что задание решено корректно\n",
    "assert popular_letter != 'T'\n",
    "\n",
    "# Подобные тесты скрыты от вас"
   ]
  },
  {
   "cell_type": "markdown",
   "metadata": {
    "id": "1ooGQl73g12d"
   },
   "source": [
    "__е)__ Теперь поработаем со стоимостью акций. \n",
    "\n",
    "- Из таблицы `df_inf` возьмите колонку `Symbol` и сохраните значения из неё, `.values`, в вектор tickers\n",
    "- Выберите из вектора 10 случайных тикеров командой `np.random.choice`, опцию `replace` установить в `False`, нам нужна выборка без повторений"
   ]
  },
  {
   "cell_type": "code",
   "execution_count": 32,
   "metadata": {
    "deletable": false,
    "id": "_zIA07OAg12d",
    "nbgrader": {
     "cell_type": "code",
     "checksum": "5ca5cff00c67b1d5f82ef0cb8fc01058",
     "grade": false,
     "grade_id": "cell-11852f66da79a1bf",
     "locked": false,
     "schema_version": 3,
     "solution": true,
     "task": false
    }
   },
   "outputs": [],
   "source": [
    "tickers = df_inf['Symbol'].values\n",
    "tickers10 = np.random.choice(tickers, 10, replace=False)"
   ]
  },
  {
   "cell_type": "code",
   "execution_count": 33,
   "metadata": {
    "deletable": false,
    "editable": false,
    "id": "T4ys6eNHg12d",
    "nbgrader": {
     "cell_type": "code",
     "checksum": "6f3916bb7779fcae1d1a134807c52728",
     "grade": true,
     "grade_id": "cell-bd0ae17d4b1c8978",
     "locked": true,
     "points": 1,
     "schema_version": 3,
     "solution": false,
     "task": false
    }
   },
   "outputs": [],
   "source": [
    "# проверка, что задание решено корректно\n",
    "assert tickers.size > 500\n",
    "\n",
    "# Подобные тесты скрыты от вас"
   ]
  },
  {
   "cell_type": "markdown",
   "metadata": {
    "id": "aWFfKry2g12e"
   },
   "source": [
    "Методом .plot постройте для выбранных 10 тикеров картинку с динамикой их цен. В скобках у .plot() допишите figsize=(12,7), чтобы отрегулировать размер картинки."
   ]
  },
  {
   "cell_type": "code",
   "execution_count": 34,
   "metadata": {
    "id": "nLGPWVgUg12e"
   },
   "outputs": [],
   "source": [
    "df_new = pd.DataFrame()"
   ]
  },
  {
   "cell_type": "code",
   "execution_count": 35,
   "metadata": {
    "id": "b5Y0_au2g12e"
   },
   "outputs": [],
   "source": [
    "for ticker in tickers10:\n",
    "    df_new[ticker] = df_prices[ticker]"
   ]
  },
  {
   "cell_type": "code",
   "execution_count": 36,
   "metadata": {
    "id": "0CUSQnHHg12e",
    "outputId": "26b46372-bde7-4e52-a5de-f2badc77bee9"
   },
   "outputs": [
    {
     "data": {
      "text/html": [
       "<div>\n",
       "<style scoped>\n",
       "    .dataframe tbody tr th:only-of-type {\n",
       "        vertical-align: middle;\n",
       "    }\n",
       "\n",
       "    .dataframe tbody tr th {\n",
       "        vertical-align: top;\n",
       "    }\n",
       "\n",
       "    .dataframe thead th {\n",
       "        text-align: right;\n",
       "    }\n",
       "</style>\n",
       "<table border=\"1\" class=\"dataframe\">\n",
       "  <thead>\n",
       "    <tr style=\"text-align: right;\">\n",
       "      <th></th>\n",
       "      <th>AEE</th>\n",
       "      <th>TYL</th>\n",
       "      <th>UNM</th>\n",
       "      <th>LB</th>\n",
       "      <th>HRL</th>\n",
       "      <th>ODFL</th>\n",
       "      <th>BLL</th>\n",
       "      <th>LEN</th>\n",
       "      <th>IPG</th>\n",
       "      <th>WMT</th>\n",
       "    </tr>\n",
       "    <tr>\n",
       "      <th>Date</th>\n",
       "      <th></th>\n",
       "      <th></th>\n",
       "      <th></th>\n",
       "      <th></th>\n",
       "      <th></th>\n",
       "      <th></th>\n",
       "      <th></th>\n",
       "      <th></th>\n",
       "      <th></th>\n",
       "      <th></th>\n",
       "    </tr>\n",
       "  </thead>\n",
       "  <tbody>\n",
       "    <tr>\n",
       "      <th>2010-08-02</th>\n",
       "      <td>17.508966</td>\n",
       "      <td>16.969999</td>\n",
       "      <td>18.190493</td>\n",
       "      <td>14.871561</td>\n",
       "      <td>7.860930</td>\n",
       "      <td>11.357853</td>\n",
       "      <td>12.678797</td>\n",
       "      <td>14.212216</td>\n",
       "      <td>6.997238</td>\n",
       "      <td>39.842934</td>\n",
       "    </tr>\n",
       "    <tr>\n",
       "      <th>2010-08-03</th>\n",
       "      <td>17.644121</td>\n",
       "      <td>17.020000</td>\n",
       "      <td>17.791315</td>\n",
       "      <td>14.469015</td>\n",
       "      <td>7.830010</td>\n",
       "      <td>11.048756</td>\n",
       "      <td>12.646544</td>\n",
       "      <td>13.687913</td>\n",
       "      <td>6.792107</td>\n",
       "      <td>39.749924</td>\n",
       "    </tr>\n",
       "    <tr>\n",
       "      <th>2010-08-04</th>\n",
       "      <td>17.677906</td>\n",
       "      <td>17.690001</td>\n",
       "      <td>17.086863</td>\n",
       "      <td>14.763839</td>\n",
       "      <td>7.870025</td>\n",
       "      <td>11.299533</td>\n",
       "      <td>12.618585</td>\n",
       "      <td>13.528754</td>\n",
       "      <td>6.959252</td>\n",
       "      <td>39.990189</td>\n",
       "    </tr>\n",
       "  </tbody>\n",
       "</table>\n",
       "</div>"
      ],
      "text/plain": [
       "                  AEE        TYL        UNM         LB       HRL       ODFL  \\\n",
       "Date                                                                          \n",
       "2010-08-02  17.508966  16.969999  18.190493  14.871561  7.860930  11.357853   \n",
       "2010-08-03  17.644121  17.020000  17.791315  14.469015  7.830010  11.048756   \n",
       "2010-08-04  17.677906  17.690001  17.086863  14.763839  7.870025  11.299533   \n",
       "\n",
       "                  BLL        LEN       IPG        WMT  \n",
       "Date                                                   \n",
       "2010-08-02  12.678797  14.212216  6.997238  39.842934  \n",
       "2010-08-03  12.646544  13.687913  6.792107  39.749924  \n",
       "2010-08-04  12.618585  13.528754  6.959252  39.990189  "
      ]
     },
     "execution_count": 36,
     "metadata": {},
     "output_type": "execute_result"
    }
   ],
   "source": [
    "df_new.head(3)"
   ]
  },
  {
   "cell_type": "code",
   "execution_count": 37,
   "metadata": {
    "id": "4fo6QsEgg12e",
    "outputId": "a84087c6-3054-4ba3-dda4-68f95ac8ed5a"
   },
   "outputs": [
    {
     "data": {
      "image/png": "[encoded data removed]",
      "text/plain": [
       "<Figure size 864x504 with 1 Axes>"
      ]
     },
     "metadata": {
      "needs_background": "light"
     },
     "output_type": "display_data"
    }
   ],
   "source": [
    "((df_new.pct_change()+1).cumprod()).plot(figsize=(12, 7))\n",
    "\n",
    "plt.ylabel('Price')\n",
    "plt.xlabel('Year')\n",
    "\n",
    "plt.grid(which=\"major\", color='k', linestyle='-.', linewidth=0.5)\n",
    "plt.show()"
   ]
  },
  {
   "cell_type": "markdown",
   "metadata": {
    "id": "VxdmyEasg12f"
   },
   "source": [
    "Методом `.hist()` постройте для этих цен гистограммы. Выберите количество бинов `bins` равное $25$, опцию `density` поставьте в `True`. Это отнормирует высоту столбиков так, чтобы сумма площадей под ними была равна единице. "
   ]
  },
  {
   "cell_type": "code",
   "execution_count": 38,
   "metadata": {
    "deletable": false,
    "id": "1wVfYXf9g12f",
    "nbgrader": {
     "cell_type": "code",
     "checksum": "6cbe345d0364d1bcc0944d7d43cbc09e",
     "grade": false,
     "grade_id": "cell-f36b01ee7daa8a53",
     "locked": false,
     "schema_version": 3,
     "solution": true,
     "task": false
    },
    "outputId": "0372d466-457e-4ff5-cbdf-b4bfa09583e7"
   },
   "outputs": [
    {
     "data": {
      "image/png": "[encoded data removed]",
      "text/plain": [
       "<Figure size 864x576 with 12 Axes>"
      ]
     },
     "metadata": {
      "needs_background": "light"
     },
     "output_type": "display_data"
    }
   ],
   "source": [
    "((df_new.pct_change()+1).cumprod()).hist(figsize=(12,8), bins=25, density=True)\n",
    "plt.show()"
   ]
  },
  {
   "cell_type": "markdown",
   "metadata": {
    "id": "ki3hY_DLg12f"
   },
   "source": [
    "Финансовые продукты характеризуются двумя основными характеристикам – __доходностью__ и __риском.__ Доходность – это процентное изменение стоимости за некоторый промежуток времени. Мы будем работать с доходностями за день: \n",
    "\n",
    "$$\n",
    "R_t = \\frac{P_t - P_{t-1}}{P_{t-1}}\n",
    "$$\n",
    "\n",
    "Перейдите к доходностям для всей таблицы `df_prices`. Для того, чтобы посчитать разность между каждой строкой таблицы и предыдущей строкой, используйте команду `.diff()`. Чтобы сдвинуть все строки на одну вниз, используйте команду `shift(1)`.  \n",
    "\n",
    "Поделите результат работы команды `diff` на результат работы команды `shift`. Обратите внимание, что в первой колонке теперь все значения `NaN`, так как мы не можем посчитать доходность для самого первого дня. Удалите из таблицы эту строку. "
   ]
  },
  {
   "cell_type": "code",
   "execution_count": 39,
   "metadata": {
    "deletable": false,
    "id": "FSTEWpdLg12f",
    "nbgrader": {
     "cell_type": "code",
     "checksum": "89f2cd3513f2cf8b17560d0f6d022eab",
     "grade": false,
     "grade_id": "cell-3f2f1d57222f9910",
     "locked": false,
     "schema_version": 3,
     "solution": true,
     "task": false
    }
   },
   "outputs": [],
   "source": [
    "df_r =(df_prices.diff()/df_prices.shift(1))[1:]"
   ]
  },
  {
   "cell_type": "code",
   "execution_count": 40,
   "metadata": {
    "id": "rBb113QIg12g",
    "outputId": "e90f28c6-25e2-47d6-b40f-c49cdc5f91b3"
   },
   "outputs": [
    {
     "data": {
      "text/html": [
       "<div>\n",
       "<style scoped>\n",
       "    .dataframe tbody tr th:only-of-type {\n",
       "        vertical-align: middle;\n",
       "    }\n",
       "\n",
       "    .dataframe tbody tr th {\n",
       "        vertical-align: top;\n",
       "    }\n",
       "\n",
       "    .dataframe thead th {\n",
       "        text-align: right;\n",
       "    }\n",
       "</style>\n",
       "<table border=\"1\" class=\"dataframe\">\n",
       "  <thead>\n",
       "    <tr style=\"text-align: right;\">\n",
       "      <th></th>\n",
       "      <th>A</th>\n",
       "      <th>AAL</th>\n",
       "      <th>AAP</th>\n",
       "      <th>AAPL</th>\n",
       "      <th>ABBV</th>\n",
       "      <th>ABC</th>\n",
       "      <th>ABMD</th>\n",
       "      <th>ABT</th>\n",
       "      <th>ACN</th>\n",
       "      <th>ADBE</th>\n",
       "      <th>...</th>\n",
       "      <th>XOM</th>\n",
       "      <th>XRAY</th>\n",
       "      <th>XRX</th>\n",
       "      <th>XYL</th>\n",
       "      <th>YUM</th>\n",
       "      <th>ZBH</th>\n",
       "      <th>ZBRA</th>\n",
       "      <th>ZION</th>\n",
       "      <th>ZM</th>\n",
       "      <th>ZTS</th>\n",
       "    </tr>\n",
       "    <tr>\n",
       "      <th>Date</th>\n",
       "      <th></th>\n",
       "      <th></th>\n",
       "      <th></th>\n",
       "      <th></th>\n",
       "      <th></th>\n",
       "      <th></th>\n",
       "      <th></th>\n",
       "      <th></th>\n",
       "      <th></th>\n",
       "      <th></th>\n",
       "      <th></th>\n",
       "      <th></th>\n",
       "      <th></th>\n",
       "      <th></th>\n",
       "      <th></th>\n",
       "      <th></th>\n",
       "      <th></th>\n",
       "      <th></th>\n",
       "      <th></th>\n",
       "      <th></th>\n",
       "      <th></th>\n",
       "    </tr>\n",
       "  </thead>\n",
       "  <tbody>\n",
       "    <tr>\n",
       "      <th>2010-08-03</th>\n",
       "      <td>-0.034004</td>\n",
       "      <td>0.001880</td>\n",
       "      <td>-0.015347</td>\n",
       "      <td>0.000306</td>\n",
       "      <td>NaN</td>\n",
       "      <td>-0.019621</td>\n",
       "      <td>-0.017905</td>\n",
       "      <td>0.003412</td>\n",
       "      <td>-0.008183</td>\n",
       "      <td>-0.016216</td>\n",
       "      <td>...</td>\n",
       "      <td>0.012593</td>\n",
       "      <td>0.008101</td>\n",
       "      <td>-0.017312</td>\n",
       "      <td>NaN</td>\n",
       "      <td>-0.015461</td>\n",
       "      <td>0.006688</td>\n",
       "      <td>-0.006887</td>\n",
       "      <td>-0.012232</td>\n",
       "      <td>NaN</td>\n",
       "      <td>NaN</td>\n",
       "    </tr>\n",
       "    <tr>\n",
       "      <th>2010-08-04</th>\n",
       "      <td>0.016164</td>\n",
       "      <td>-0.059099</td>\n",
       "      <td>0.014256</td>\n",
       "      <td>0.004009</td>\n",
       "      <td>NaN</td>\n",
       "      <td>0.012675</td>\n",
       "      <td>-0.042844</td>\n",
       "      <td>0.003600</td>\n",
       "      <td>0.008500</td>\n",
       "      <td>0.019918</td>\n",
       "      <td>...</td>\n",
       "      <td>0.000000</td>\n",
       "      <td>0.017036</td>\n",
       "      <td>0.009327</td>\n",
       "      <td>NaN</td>\n",
       "      <td>0.008698</td>\n",
       "      <td>0.011810</td>\n",
       "      <td>0.025183</td>\n",
       "      <td>0.000442</td>\n",
       "      <td>NaN</td>\n",
       "      <td>NaN</td>\n",
       "    </tr>\n",
       "    <tr>\n",
       "      <th>2010-08-05</th>\n",
       "      <td>0.006009</td>\n",
       "      <td>-0.038883</td>\n",
       "      <td>0.009558</td>\n",
       "      <td>-0.004868</td>\n",
       "      <td>NaN</td>\n",
       "      <td>-0.000659</td>\n",
       "      <td>-0.022857</td>\n",
       "      <td>-0.003986</td>\n",
       "      <td>-0.009172</td>\n",
       "      <td>-0.008754</td>\n",
       "      <td>...</td>\n",
       "      <td>-0.000159</td>\n",
       "      <td>-0.002844</td>\n",
       "      <td>-0.010267</td>\n",
       "      <td>NaN</td>\n",
       "      <td>0.015808</td>\n",
       "      <td>-0.006019</td>\n",
       "      <td>0.080456</td>\n",
       "      <td>-0.022547</td>\n",
       "      <td>NaN</td>\n",
       "      <td>NaN</td>\n",
       "    </tr>\n",
       "  </tbody>\n",
       "</table>\n",
       "<p>3 rows × 523 columns</p>\n",
       "</div>"
      ],
      "text/plain": [
       "                   A       AAL       AAP      AAPL  ABBV       ABC      ABMD  \\\n",
       "Date                                                                           \n",
       "2010-08-03 -0.034004  0.001880 -0.015347  0.000306   NaN -0.019621 -0.017905   \n",
       "2010-08-04  0.016164 -0.059099  0.014256  0.004009   NaN  0.012675 -0.042844   \n",
       "2010-08-05  0.006009 -0.038883  0.009558 -0.004868   NaN -0.000659 -0.022857   \n",
       "\n",
       "                 ABT       ACN      ADBE  ...       XOM      XRAY       XRX  \\\n",
       "Date                                      ...                                 \n",
       "2010-08-03  0.003412 -0.008183 -0.016216  ...  0.012593  0.008101 -0.017312   \n",
       "2010-08-04  0.003600  0.008500  0.019918  ...  0.000000  0.017036  0.009327   \n",
       "2010-08-05 -0.003986 -0.009172 -0.008754  ... -0.000159 -0.002844 -0.010267   \n",
       "\n",
       "            XYL       YUM       ZBH      ZBRA      ZION  ZM  ZTS  \n",
       "Date                                                              \n",
       "2010-08-03  NaN -0.015461  0.006688 -0.006887 -0.012232 NaN  NaN  \n",
       "2010-08-04  NaN  0.008698  0.011810  0.025183  0.000442 NaN  NaN  \n",
       "2010-08-05  NaN  0.015808 -0.006019  0.080456 -0.022547 NaN  NaN  \n",
       "\n",
       "[3 rows x 523 columns]"
      ]
     },
     "execution_count": 40,
     "metadata": {},
     "output_type": "execute_result"
    }
   ],
   "source": [
    "df_r.head(3)"
   ]
  },
  {
   "cell_type": "code",
   "execution_count": 41,
   "metadata": {
    "deletable": false,
    "editable": false,
    "id": "Tmocdzhqg12g",
    "nbgrader": {
     "cell_type": "code",
     "checksum": "d8f8b4ec3888686ee4b642fcf0dd153f",
     "grade": true,
     "grade_id": "cell-a6be28ef13a07dbf",
     "locked": true,
     "points": 1,
     "schema_version": 3,
     "solution": false,
     "task": false
    }
   },
   "outputs": [],
   "source": [
    "# проверка, что задание решено корректно\n",
    "assert df_r.iloc[0,0] < 1\n",
    "\n",
    "# Подобные тесты скрыты от вас"
   ]
  },
  {
   "cell_type": "markdown",
   "metadata": {
    "id": "gaQQBILdg12g"
   },
   "source": [
    "Методом `.plot` постройте для выбранных ранее 10  случайных тикеров картинку с динамикой цены. "
   ]
  },
  {
   "cell_type": "code",
   "execution_count": 42,
   "metadata": {
    "id": "V5UPujWvg12g"
   },
   "outputs": [],
   "source": [
    "df_new2 = pd.DataFrame()"
   ]
  },
  {
   "cell_type": "code",
   "execution_count": 43,
   "metadata": {
    "id": "jH6iw_d7g12g"
   },
   "outputs": [],
   "source": [
    "for tick in tickers10:\n",
    "    df_new2[tick] = df_r[tick]"
   ]
  },
  {
   "cell_type": "code",
   "execution_count": 44,
   "metadata": {
    "deletable": false,
    "id": "wegmGxNbg12h",
    "nbgrader": {
     "cell_type": "code",
     "checksum": "50c6e77ba8d6a057e4f1ea4c5393c933",
     "grade": false,
     "grade_id": "cell-23e982aeb70ac417",
     "locked": false,
     "schema_version": 3,
     "solution": true,
     "task": false
    },
    "outputId": "f73dc43b-d0e2-42a1-e2ce-72ecaf289003"
   },
   "outputs": [
    {
     "data": {
      "image/png": "[encoded data removed]",
      "text/plain": [
       "<Figure size 864x504 with 1 Axes>"
      ]
     },
     "metadata": {
      "needs_background": "light"
     },
     "output_type": "display_data"
    }
   ],
   "source": [
    "((df_new2.pct_change()+1).cumprod()).plot(figsize=(12, 7))\n",
    "\n",
    "plt.ylabel('Price')\n",
    "plt.xlabel('Year')\n",
    "\n",
    "plt.grid(which=\"major\", color='k', linestyle='-.', linewidth=0.5)\n",
    "plt.show()"
   ]
  },
  {
   "cell_type": "markdown",
   "metadata": {
    "id": "yrhR-ydOg12h"
   },
   "source": [
    "Постройте для доходностей этих 10 бумаг ящики с усами. Для этого в опциях команды `plot` укажите `'kind'='box'`. "
   ]
  },
  {
   "cell_type": "code",
   "execution_count": 45,
   "metadata": {
    "deletable": false,
    "id": "rkQRVRuyg12i",
    "nbgrader": {
     "cell_type": "code",
     "checksum": "c50c27ce71cc1ac059a5cb2b02267fbd",
     "grade": false,
     "grade_id": "cell-c0b42310d00ff47e",
     "locked": false,
     "schema_version": 3,
     "solution": true,
     "task": false
    },
    "outputId": "0027f2f9-a712-49a3-c986-5adddcea755c"
   },
   "outputs": [
    {
     "data": {
      "image/png": "[encoded data removed]",
      "text/plain": [
       "<Figure size 1008x504 with 1 Axes>"
      ]
     },
     "metadata": {
      "needs_background": "light"
     },
     "output_type": "display_data"
    }
   ],
   "source": [
    "df_new2.plot(kind='box', figsize=(14, 7));"
   ]
  },
  {
   "cell_type": "markdown",
   "metadata": {
    "id": "fDJG1NJ3g12i"
   },
   "source": [
    "__Выводы:__ \n",
    "\n",
    "Доходности по нашим акциям имеют распределение похожее на нормальное, но есть отличие. По ящикам с усами видно, что в данных есть довольно большое количество выбросов. Это сигнализирует о том, что у распределения доходностей хвосты оказываются более тяжёлыми, чем у нормального распределения. То есть под ними сосредоточено больше вероятностной массы и из-за этого редкое события более вероятны, чем для нормального распределения. Такую особенность финансовых данных мы более подробно будем обсуждать в будущем. \n",
    "\n",
    "Кроме того, по построенным визуализациям видно, что средние доходности практически для всех ценных бумаг находится близко к нулю."
   ]
  },
  {
   "cell_type": "markdown",
   "metadata": {
    "id": "9XitwqDAg12i"
   },
   "source": [
    "__ё)__  Без буквы `ё` никуда, скажут нам [Пафнутий Чебышёв](https://ru.wikipedia.org/wiki/%D0%A7%D0%B5%D0%B1%D1%8B%D1%88%D1%91%D0%B2,_%D0%9F%D0%B0%D1%84%D0%BD%D1%83%D1%82%D0%B8%D0%B9_%D0%9B%D1%8C%D0%B2%D0%BE%D0%B2%D0%B8%D1%87) и [Лёв Толстой](https://arzamas.academy/special/ruslit/writers/tolstoy).  \n",
    "\n",
    "Посчитайте для всех компаний среднюю доходность. Найдите 10 самых доходных компаний и 10 самых убыточных. "
   ]
  },
  {
   "cell_type": "code",
   "execution_count": 46,
   "metadata": {
    "deletable": false,
    "id": "e41T8Opbg12i",
    "nbgrader": {
     "cell_type": "code",
     "checksum": "90e84565d58172d54b7e6b015c1807cd",
     "grade": false,
     "grade_id": "cell-8f8e17c6eddef5d2",
     "locked": false,
     "schema_version": 3,
     "solution": true,
     "task": false
    }
   },
   "outputs": [],
   "source": [
    "R  = list(df_r.describe()[1:2].iloc[0])  # средние доходности \n",
    "rtop_10 = list(df_r.describe()[1:2].sort_values('mean', axis=1, ascending=False).columns[:10]) # list из тикеров 10 самых доходных компаний отсортированный по алфавиту\n",
    "rbottom_10 = list(df_r.describe()[1:2].sort_values('mean', axis=1).columns[:10]) # list из тикеров 10 самых убыточных компаний отсортированный по алфавиту"
   ]
  },
  {
   "cell_type": "code",
   "execution_count": 47,
   "metadata": {
    "id": "yFo6ddW4g12j",
    "outputId": "901369c9-ff42-4122-d09b-ae9a69bcda8f"
   },
   "outputs": [
    {
     "data": {
      "text/plain": [
       "['TT', 'CARR', 'ZM', 'MRNA', 'OTIS', 'DOCU', 'HWM', 'PAYC', 'TSLA', 'DXCM']"
      ]
     },
     "execution_count": 47,
     "metadata": {},
     "output_type": "execute_result"
    }
   ],
   "source": [
    "rtop_10"
   ]
  },
  {
   "cell_type": "code",
   "execution_count": 48,
   "metadata": {
    "id": "rhF8YtVag12j",
    "outputId": "3d7a25a2-bd90-45b7-abfb-5ee6344f5f3a"
   },
   "outputs": [
    {
     "data": {
      "text/plain": [
       "['VIAC', 'UA', 'FOX', 'FOXA', 'COTY', 'DVN', 'KHC', 'WRK', 'SLB', 'APA']"
      ]
     },
     "execution_count": 48,
     "metadata": {},
     "output_type": "execute_result"
    }
   ],
   "source": [
    "rbottom_10"
   ]
  },
  {
   "cell_type": "code",
   "execution_count": 49,
   "metadata": {
    "deletable": false,
    "editable": false,
    "id": "rTjn-QLug12k",
    "nbgrader": {
     "cell_type": "code",
     "checksum": "c675b46396951d77e12d803ffa016cba",
     "grade": true,
     "grade_id": "cell-2ae0cb6d8a75ba8e",
     "locked": true,
     "points": 1,
     "schema_version": 3,
     "solution": false,
     "task": false
    }
   },
   "outputs": [],
   "source": [
    "# проверка, что задание решено корректно\n",
    "assert 'DXCM' in rtop_10\n",
    "assert 'SLB' in rbottom_10\n",
    "\n",
    "# Подобные тесты скрыты от вас"
   ]
  },
  {
   "cell_type": "markdown",
   "metadata": {
    "id": "LhvzGC2qg12k"
   },
   "source": [
    "Есть ли среди самых доходных компаний Тесла? :)"
   ]
  },
  {
   "cell_type": "markdown",
   "metadata": {},
   "source": [
    "*Ответ* : Да!"
   ]
  },
  {
   "cell_type": "markdown",
   "metadata": {
    "id": "pBvr09rAg12k"
   },
   "source": [
    "__ж)__ Мы поговорили о доходности. Теперь поговорим о риске. Один из способов измерить, насколько ценная бумага рискованная -  использовать стандартное отклонение. \n",
    "\n",
    "Посчитайте для всех компаний стандартное отклонение доходности. Найдите 10 самых рискованных компаний и 10 самых безрисковых. "
   ]
  },
  {
   "cell_type": "code",
   "execution_count": 54,
   "metadata": {
    "deletable": false,
    "id": "ylRq7aWUg12l",
    "nbgrader": {
     "cell_type": "code",
     "checksum": "672a82deda8e75a4e66dca6fc6acc4f4",
     "grade": false,
     "grade_id": "cell-fc58f4de09200723",
     "locked": false,
     "schema_version": 3,
     "solution": true,
     "task": false
    }
   },
   "outputs": [],
   "source": [
    "STD  = list(df_r.describe()[2:3].iloc[0]) # стандартные отклонения доходностей\n",
    "stdtop_10 = sorted(list(df_r.describe()[2:3].sort_values('std', axis=1, ascending=False).columns)[:10]) # list из тикеров 10 самых рискованных компаний отсортированный по алфавиту\n",
    "stdbottom_10 = sorted(list(df_r.describe()[2:3].sort_values('std', axis=1).columns)[:10])   # list из тикеров 10 самых нерискованных компаний отсортированный по алфавиту"
   ]
  },
  {
   "cell_type": "code",
   "execution_count": 55,
   "metadata": {
    "id": "6idXrwMBg12l",
    "outputId": "778a2841-bd0a-45b9-9805-a6a48a03c0ac"
   },
   "outputs": [
    {
     "data": {
      "text/plain": [
       "['AMD', 'CARR', 'DOW', 'HWM', 'MRNA', 'TSLA', 'TT', 'UA', 'VIAC', 'ZM']"
      ]
     },
     "execution_count": 55,
     "metadata": {},
     "output_type": "execute_result"
    }
   ],
   "source": [
    "stdtop_10"
   ]
  },
  {
   "cell_type": "code",
   "execution_count": 56,
   "metadata": {
    "id": "WxUf3sRWg12l",
    "outputId": "a04be7a9-8eeb-4e0f-c19e-90da1f25e423"
   },
   "outputs": [
    {
     "data": {
      "text/plain": [
       "['CL', 'DUK', 'GIS', 'JNJ', 'KMB', 'KO', 'PEP', 'PG', 'VZ', 'WM']"
      ]
     },
     "execution_count": 56,
     "metadata": {},
     "output_type": "execute_result"
    }
   ],
   "source": [
    "stdbottom_10"
   ]
  },
  {
   "cell_type": "code",
   "execution_count": 57,
   "metadata": {
    "deletable": false,
    "editable": false,
    "id": "0B3VZPMXg12l",
    "nbgrader": {
     "cell_type": "code",
     "checksum": "e1fd4bad4de20a315a8c1f6ebe65f8fa",
     "grade": true,
     "grade_id": "cell-e729610527e9e29a",
     "locked": true,
     "points": 1,
     "schema_version": 3,
     "solution": false,
     "task": false
    }
   },
   "outputs": [],
   "source": [
    "# проверка, что задание решено корректно\n",
    "assert 'TSLA' in stdtop_10\n",
    "assert 'PEP' in stdbottom_10\n",
    "\n",
    "# Подобные тесты скрыты от вас"
   ]
  },
  {
   "cell_type": "markdown",
   "metadata": {
    "id": "e9Z0GbXPg12m"
   },
   "source": [
    "Есть ли среди самых рискованных компаний Тесла? :) "
   ]
  },
  {
   "cell_type": "markdown",
   "metadata": {
    "id": "gXeqA9p_g12m"
   },
   "source": [
    "*Ответ* : Есть!"
   ]
  },
  {
   "cell_type": "markdown",
   "metadata": {
    "id": "4NAynqL7g12m"
   },
   "source": [
    "Обычно инвесторы принимают решение покупать бумагу к себе в портфель, отталкиваясь от того какие соотношения доходность/риск существуют на рынке. Построим для наших ценных бумаг диаграмму рассеивания, на которой будет видно где по своей доходности и риску находится какая ценная бумага. "
   ]
  },
  {
   "cell_type": "code",
   "execution_count": 58,
   "metadata": {
    "id": "DEpcz92ig12m",
    "outputId": "3e47f909-a7fe-42b3-fb15-17472127d4f9"
   },
   "outputs": [
    {
     "data": {
      "text/html": [
       "<div>\n",
       "<style scoped>\n",
       "    .dataframe tbody tr th:only-of-type {\n",
       "        vertical-align: middle;\n",
       "    }\n",
       "\n",
       "    .dataframe tbody tr th {\n",
       "        vertical-align: top;\n",
       "    }\n",
       "\n",
       "    .dataframe thead th {\n",
       "        text-align: right;\n",
       "    }\n",
       "</style>\n",
       "<table border=\"1\" class=\"dataframe\">\n",
       "  <thead>\n",
       "    <tr style=\"text-align: right;\">\n",
       "      <th></th>\n",
       "      <th>Symbol</th>\n",
       "      <th>GICS Sector</th>\n",
       "    </tr>\n",
       "  </thead>\n",
       "  <tbody>\n",
       "    <tr>\n",
       "      <th>0</th>\n",
       "      <td>A</td>\n",
       "      <td>Health Care</td>\n",
       "    </tr>\n",
       "    <tr>\n",
       "      <th>1</th>\n",
       "      <td>AAL</td>\n",
       "      <td>Industrials</td>\n",
       "    </tr>\n",
       "    <tr>\n",
       "      <th>2</th>\n",
       "      <td>AAP</td>\n",
       "      <td>Consumer Discretionary</td>\n",
       "    </tr>\n",
       "    <tr>\n",
       "      <th>3</th>\n",
       "      <td>AAPL</td>\n",
       "      <td>Information Technology</td>\n",
       "    </tr>\n",
       "    <tr>\n",
       "      <th>4</th>\n",
       "      <td>ABBV</td>\n",
       "      <td>Health Care</td>\n",
       "    </tr>\n",
       "  </tbody>\n",
       "</table>\n",
       "</div>"
      ],
      "text/plain": [
       "  Symbol             GICS Sector\n",
       "0      A             Health Care\n",
       "1    AAL             Industrials\n",
       "2    AAP  Consumer Discretionary\n",
       "3   AAPL  Information Technology\n",
       "4   ABBV             Health Care"
      ]
     },
     "execution_count": 58,
     "metadata": {},
     "output_type": "execute_result"
    }
   ],
   "source": [
    "df_inf_new = pd.DataFrame()\n",
    "df_inf_new['Symbol'] = list(df_inf['Symbol'])\n",
    "df_inf_new['GICS Sector'] = list(df_inf.set_index('Symbol')['GICS_Sector'])\n",
    "df_inf_new = df_inf_new.drop(index=[62])\n",
    "df_inf_new = df_inf_new.drop(index=[74])\n",
    "df_inf_new.head()"
   ]
  },
  {
   "cell_type": "code",
   "execution_count": 59,
   "metadata": {
    "id": "L2W4Obopg12m",
    "outputId": "6b441d05-5cc4-486b-de91-481778aacaaf"
   },
   "outputs": [
    {
     "data": {
      "text/html": [
       "<div>\n",
       "<style scoped>\n",
       "    .dataframe tbody tr th:only-of-type {\n",
       "        vertical-align: middle;\n",
       "    }\n",
       "\n",
       "    .dataframe tbody tr th {\n",
       "        vertical-align: top;\n",
       "    }\n",
       "\n",
       "    .dataframe thead th {\n",
       "        text-align: right;\n",
       "    }\n",
       "</style>\n",
       "<table border=\"1\" class=\"dataframe\">\n",
       "  <thead>\n",
       "    <tr style=\"text-align: right;\">\n",
       "      <th></th>\n",
       "      <th>std</th>\n",
       "      <th>r</th>\n",
       "      <th>GICS Sector</th>\n",
       "    </tr>\n",
       "  </thead>\n",
       "  <tbody>\n",
       "    <tr>\n",
       "      <th>0</th>\n",
       "      <td>0.018245</td>\n",
       "      <td>0.000808</td>\n",
       "      <td>Health Care</td>\n",
       "    </tr>\n",
       "    <tr>\n",
       "      <th>1</th>\n",
       "      <td>0.032635</td>\n",
       "      <td>0.000549</td>\n",
       "      <td>Industrials</td>\n",
       "    </tr>\n",
       "    <tr>\n",
       "      <th>2</th>\n",
       "      <td>0.020001</td>\n",
       "      <td>0.000585</td>\n",
       "      <td>Consumer Discretionary</td>\n",
       "    </tr>\n",
       "    <tr>\n",
       "      <th>3</th>\n",
       "      <td>0.017418</td>\n",
       "      <td>0.001179</td>\n",
       "      <td>Information Technology</td>\n",
       "    </tr>\n",
       "    <tr>\n",
       "      <th>4</th>\n",
       "      <td>0.018026</td>\n",
       "      <td>0.000873</td>\n",
       "      <td>Health Care</td>\n",
       "    </tr>\n",
       "  </tbody>\n",
       "</table>\n",
       "</div>"
      ],
      "text/plain": [
       "        std         r             GICS Sector\n",
       "0  0.018245  0.000808             Health Care\n",
       "1  0.032635  0.000549             Industrials\n",
       "2  0.020001  0.000585  Consumer Discretionary\n",
       "3  0.017418  0.001179  Information Technology\n",
       "4  0.018026  0.000873             Health Care"
      ]
     },
     "execution_count": 59,
     "metadata": {},
     "output_type": "execute_result"
    }
   ],
   "source": [
    "# таблица с доходностями и риском\n",
    "data = pd.DataFrame({'std': STD, 'r': R})\n",
    "\n",
    "# добавили сектора экономики для каждой из ценных бумаг\n",
    "data['GICS Sector'] = list(df_inf_new['GICS Sector'])\n",
    "data.head()"
   ]
  },
  {
   "cell_type": "code",
   "execution_count": 60,
   "metadata": {
    "id": "pG8G_wV4g12n",
    "outputId": "093b7db4-6048-4d95-dee5-05dd82017939"
   },
   "outputs": [
    {
     "data": {
      "image/png": "[encoded data removed]",
      "text/plain": [
       "<Figure size 1080x576 with 1 Axes>"
      ]
     },
     "metadata": {
      "needs_background": "light"
     },
     "output_type": "display_data"
    }
   ],
   "source": [
    "plt.figure(figsize=(15, 8))\n",
    "\n",
    "sns.scatterplot(data=data, x='std', y='r', hue='GICS Sector')\n",
    "\n",
    "plt.ylim(-0.002, 0.005)\n",
    "plt.xlim(0.01, 0.04)\n",
    "\n",
    "plt.xlabel('Риск')\n",
    "plt.ylabel('Доходность')\n",
    "plt.title('Риск и доходность различных ценных бумаг');"
   ]
  },
  {
   "cell_type": "markdown",
   "metadata": {
    "id": "wtKwkJrrg12n"
   },
   "source": [
    "Чем больше риск, тем выше потенциально может оказаться доходноcть. __Но при этом мы с более высокой вероятностью можем уйти в убыток.__\n",
    "\n",
    "Сделайте группировку (`groupby`) для таблицы `data` по секторам экономики. Какой из секторов экономики обладает самым низким медианным значением риска? Самым высоким значением доходности?"
   ]
  },
  {
   "cell_type": "code",
   "execution_count": 61,
   "metadata": {
    "id": "2uma7lCZg12n",
    "outputId": "e428a84c-35ac-4270-cb9d-53b1e9379dc4"
   },
   "outputs": [
    {
     "data": {
      "text/html": [
       "<div>\n",
       "<style scoped>\n",
       "    .dataframe tbody tr th:only-of-type {\n",
       "        vertical-align: middle;\n",
       "    }\n",
       "\n",
       "    .dataframe tbody tr th {\n",
       "        vertical-align: top;\n",
       "    }\n",
       "\n",
       "    .dataframe thead th {\n",
       "        text-align: right;\n",
       "    }\n",
       "</style>\n",
       "<table border=\"1\" class=\"dataframe\">\n",
       "  <thead>\n",
       "    <tr style=\"text-align: right;\">\n",
       "      <th></th>\n",
       "      <th>std</th>\n",
       "      <th>r</th>\n",
       "    </tr>\n",
       "    <tr>\n",
       "      <th>GICS Sector</th>\n",
       "      <th></th>\n",
       "      <th></th>\n",
       "    </tr>\n",
       "  </thead>\n",
       "  <tbody>\n",
       "    <tr>\n",
       "      <th>Communication Services</th>\n",
       "      <td>0.019866</td>\n",
       "      <td>0.000547</td>\n",
       "    </tr>\n",
       "    <tr>\n",
       "      <th>Consumer Discretionary</th>\n",
       "      <td>0.020787</td>\n",
       "      <td>0.000663</td>\n",
       "    </tr>\n",
       "    <tr>\n",
       "      <th>Consumer Staples</th>\n",
       "      <td>0.013180</td>\n",
       "      <td>0.000527</td>\n",
       "    </tr>\n",
       "    <tr>\n",
       "      <th>Energy</th>\n",
       "      <td>0.025565</td>\n",
       "      <td>0.000282</td>\n",
       "    </tr>\n",
       "    <tr>\n",
       "      <th>Financials</th>\n",
       "      <td>0.018323</td>\n",
       "      <td>0.000543</td>\n",
       "    </tr>\n",
       "    <tr>\n",
       "      <th>Health Care</th>\n",
       "      <td>0.016737</td>\n",
       "      <td>0.000811</td>\n",
       "    </tr>\n",
       "    <tr>\n",
       "      <th>Industrials</th>\n",
       "      <td>0.017356</td>\n",
       "      <td>0.000686</td>\n",
       "    </tr>\n",
       "    <tr>\n",
       "      <th>Information Technology</th>\n",
       "      <td>0.019129</td>\n",
       "      <td>0.000905</td>\n",
       "    </tr>\n",
       "    <tr>\n",
       "      <th>Materials</th>\n",
       "      <td>0.019193</td>\n",
       "      <td>0.000597</td>\n",
       "    </tr>\n",
       "    <tr>\n",
       "      <th>Real Estate</th>\n",
       "      <td>0.016483</td>\n",
       "      <td>0.000480</td>\n",
       "    </tr>\n",
       "    <tr>\n",
       "      <th>Utilities</th>\n",
       "      <td>0.013147</td>\n",
       "      <td>0.000551</td>\n",
       "    </tr>\n",
       "  </tbody>\n",
       "</table>\n",
       "</div>"
      ],
      "text/plain": [
       "                             std         r\n",
       "GICS Sector                               \n",
       "Communication Services  0.019866  0.000547\n",
       "Consumer Discretionary  0.020787  0.000663\n",
       "Consumer Staples        0.013180  0.000527\n",
       "Energy                  0.025565  0.000282\n",
       "Financials              0.018323  0.000543\n",
       "Health Care             0.016737  0.000811\n",
       "Industrials             0.017356  0.000686\n",
       "Information Technology  0.019129  0.000905\n",
       "Materials               0.019193  0.000597\n",
       "Real Estate             0.016483  0.000480\n",
       "Utilities               0.013147  0.000551"
      ]
     },
     "execution_count": 61,
     "metadata": {},
     "output_type": "execute_result"
    }
   ],
   "source": [
    "data.groupby('GICS Sector').median()"
   ]
  },
  {
   "cell_type": "code",
   "execution_count": 62,
   "metadata": {
    "deletable": false,
    "id": "nqgSYc4dg12n",
    "nbgrader": {
     "cell_type": "code",
     "checksum": "90ff3015e3c2b477a45d5ffdcf72cad5",
     "grade": false,
     "grade_id": "cell-5ce60d05de1ef988",
     "locked": false,
     "schema_version": 3,
     "solution": true,
     "task": false
    }
   },
   "outputs": [],
   "source": [
    "df_agg = data.groupby('GICS Sector').median()  # таблица после группировки \n",
    "min_sector = 'Utilities'  # название сектора с минимальным медианным риском\n",
    "max_sector = 'Information Technology'  # название сектора с максимальной доходностью "
   ]
  }
 ],
 "metadata": {
  "colab": {
   "name": "company_shares.ipynb",
   "provenance": []
  },
  "kernelspec": {
   "display_name": "Python 3",
   "language": "python",
   "name": "python3"
  },
  "language_info": {
   "codemirror_mode": {
    "name": "ipython",
    "version": 3
   },
   "file_extension": ".py",
   "mimetype": "text/x-python",
   "name": "python",
   "nbconvert_exporter": "python",
   "pygments_lexer": "ipython3",
   "version": "3.8.5"
  }
 },
 "nbformat": 4,
 "nbformat_minor": 1
}
